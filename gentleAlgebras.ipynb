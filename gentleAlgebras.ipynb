{
 "cells": [
  {
   "cell_type": "markdown",
   "metadata": {
    "collapsed": false,
    "deletable": true,
    "editable": true
   },
   "source": [
    "ALGÈBRES AIMABLES\n",
    "\n",
    "Une algèbre aimable $A = kQ/I$ est l'algèbre d'un carquois $Q$ avec relations $I$ tels que :\n",
    "   - $I$ est engendré par des chemins de longueur 2,\n",
    "   - tout sommet est incident à au plus 2 flèches entrantes et 2 flèches sortantes,\n",
    "   - pour toute flèche $\\beta$, il y a au plus une flèche $\\alpha$ telle que $\\alpha\\beta \\in I$ (resp. telle que $\\alpha\\beta \\notin I$),\n",
    "   - pour toute flèche $\\beta$, il y a au plus une flèche $\\gamma$ telle que $\\beta\\gamma \\in I$ (resp. telle que $\\beta\\gamma \\notin I$)."
   ]
  },
  {
   "cell_type": "code",
   "execution_count": 1,
   "metadata": {
    "collapsed": false,
    "deletable": true,
    "editable": true
   },
   "outputs": [],
   "source": [
    "load('gentleAlgebras.sage')"
   ]
  },
  {
   "cell_type": "code",
   "execution_count": 2,
   "metadata": {
    "collapsed": false,
    "deletable": true,
    "editable": true
   },
   "outputs": [],
   "source": [
    "Q1 = BoundQuiver({'e1':{'e2':['a','b']}, 'e2':{'e3':['c']}}, [])"
   ]
  },
  {
   "cell_type": "code",
   "execution_count": 3,
   "metadata": {
    "collapsed": false,
    "deletable": true,
    "editable": true
   },
   "outputs": [
    {
     "data": {
      "text/plain": [
       "[('e1', 'a', 'e2'),\n",
       " ('e1', 'a', 'e2', 'c', 'e3'),\n",
       " ('e1', 'b', 'e2'),\n",
       " ('e1', 'b', 'e2', 'c', 'e3'),\n",
       " ('e2', 'c', 'e3')]"
      ]
     },
     "execution_count": 3,
     "metadata": {},
     "output_type": "execute_result"
    }
   ],
   "source": [
    "list(Q1.quiver_paths())"
   ]
  },
  {
   "cell_type": "code",
   "execution_count": 4,
   "metadata": {
    "collapsed": false,
    "deletable": true,
    "editable": true
   },
   "outputs": [],
   "source": [
    "Q1 = GentleQuiver({'e1':{'e2':['a','b']}, 'e2':{'e3':['c']}}, [('a','c')])\n",
    "Q2 = GentleQuiver({'e1':{'e3':'a'}, 'e2':{'e3':'c'}, 'e3':{'e4':'b', 'e5':'d'}}, [('a','b'),('c','d')])"
   ]
  },
  {
   "cell_type": "code",
   "execution_count": 5,
   "metadata": {
    "collapsed": false
   },
   "outputs": [
    {
     "name": "stdout",
     "output_type": "stream",
     "text": [
      "3 14 42\n",
      "4 20 132\n",
      "5 27 429\n",
      "6 35 1430\n",
      "7 44 4862\n"
     ]
    }
   ],
   "source": [
    "for n in range(3,8):\n",
    "    Q = quiver_type_A(n)\n",
    "    NKC = Q.non_kissing_complex()\n",
    "    print n, len(NKC.vertices()), len(NKC.facets())"
   ]
  },
  {
   "cell_type": "code",
   "execution_count": 7,
   "metadata": {
    "collapsed": false
   },
   "outputs": [
    {
     "name": "stdout",
     "output_type": "stream",
     "text": [
      "3 11 29\n",
      "4 14 70\n",
      "5 17 169\n",
      "6 20 408\n",
      "7 23 985\n"
     ]
    }
   ],
   "source": [
    "for n in range(3,8):\n",
    "    Q = quiver_type_A(n).koszul_dual()\n",
    "    NKC = Q.non_kissing_complex()\n",
    "    print n, len(NKC.vertices()), len(NKC.facets())"
   ]
  },
  {
   "cell_type": "code",
   "execution_count": null,
   "metadata": {
    "collapsed": true
   },
   "outputs": [],
   "source": []
  }
 ],
 "metadata": {
  "kernelspec": {
   "display_name": "SageMath 7.6",
   "language": "",
   "name": "sagemath"
  },
  "language_info": {
   "codemirror_mode": {
    "name": "ipython",
    "version": 2
   },
   "file_extension": ".py",
   "mimetype": "text/x-python",
   "name": "python",
   "nbconvert_exporter": "python",
   "pygments_lexer": "ipython2",
   "version": "2.7.13"
  }
 },
 "nbformat": 4,
 "nbformat_minor": 0
}
